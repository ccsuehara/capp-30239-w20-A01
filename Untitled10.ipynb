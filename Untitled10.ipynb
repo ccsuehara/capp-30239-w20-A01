{
  "nbformat": 4,
  "nbformat_minor": 0,
  "metadata": {
    "colab": {
      "name": "Untitled10.ipynb",
      "provenance": [],
      "authorship_tag": "ABX9TyPIm26z/5s+x3mdiH9RVSgF",
      "include_colab_link": true
    },
    "kernelspec": {
      "name": "python3",
      "display_name": "Python 3"
    }
  },
  "cells": [
    {
      "cell_type": "markdown",
      "metadata": {
        "id": "view-in-github",
        "colab_type": "text"
      },
      "source": [
        "<a href=\"https://colab.research.google.com/github/ccsuehara/capp-30239-w20-A01/blob/development/Untitled10.ipynb\" target=\"_parent\"><img src=\"https://colab.research.google.com/assets/colab-badge.svg\" alt=\"Open In Colab\"/></a>"
      ]
    },
    {
      "cell_type": "code",
      "metadata": {
        "id": "eezSHCsrv__H",
        "colab_type": "code",
        "colab": {
          "base_uri": "https://localhost:8080/",
          "height": 51
        },
        "outputId": "d82796e9-8430-4eea-c558-386585c675a6"
      },
      "source": [
        "import altair as alt\n",
        "import pandas as pd\n",
        "import regex as re\n",
        "from google.colab import drive\n",
        "from google.colab import files\n",
        "\n",
        "drive.mount('/content/drive')\n",
        "import json\n",
        "import urllib.request\n",
        "import numpy as np\n",
        "\n",
        "pd.set_option('display.max_columns', None)\n",
        "pd.set_option('display.max_rows', None)\n",
        "alt.data_transformers.disable_max_rows()"
      ],
      "execution_count": 2,
      "outputs": [
        {
          "output_type": "stream",
          "text": [
            "Drive already mounted at /content/drive; to attempt to forcibly remount, call drive.mount(\"/content/drive\", force_remount=True).\n"
          ],
          "name": "stdout"
        },
        {
          "output_type": "execute_result",
          "data": {
            "text/plain": [
              "DataTransformerRegistry.enable('default')"
            ]
          },
          "metadata": {
            "tags": []
          },
          "execution_count": 2
        }
      ]
    },
    {
      "cell_type": "code",
      "metadata": {
        "id": "ALICOZuUwB1b",
        "colab_type": "code",
        "colab": {
          "base_uri": "https://localhost:8080/",
          "height": 377
        },
        "outputId": "92ea6faf-3c57-45c3-db7c-c73dbb2f7b50"
      },
      "source": [
        "###@title Code for PIAAC datasets\n",
        "piaac_countries = {'aut': 'Austria','bel': 'Belgium',\n",
        " 'chl': 'Chile','cze': 'Czech Republic','dnk': 'Denmark','fin': 'Finland',\n",
        " 'fra': 'France','deu': 'Germany','grc': 'Greece','irl': 'Ireland',\n",
        " 'isr': 'Israel','ita': 'Italy','jpn': 'Japan','kor': 'Korea','ltu': 'Lithuania',\n",
        " 'nld': 'Netherlands','nzl': 'New Zealand','nor': 'Norway','pol': 'Poland',\n",
        " 'rus': 'Russian Federation','sgp': 'Singapore','svk': 'Slovak Republic','svn': 'Slovenia',\n",
        " 'esp': 'Spain','swe': 'Sweden', 'tur': 'Turkey','gbr': 'United Kingdom',\n",
        " 'usa': 'United States','ecu': 'Ecuador','hun': 'Hungary','kaz': 'Kazakhstan',\n",
        " 'mex': 'Mexico','per': 'Peru','can': 'Canada','est': 'Estonia'}\n",
        "\n",
        "#Variables we need to work with\n",
        "var = \"B_Q01A spfwt0 ageg5lfs yrsqual d_q13a d_q13b d_q13c ISCOSKIL4 \\\n",
        "LITSTATUS PVLIT1 PVLIT2 PVLIT3 PVLIT4 PVLIT5 PVLIT6 PVLIT7 PVLIT8 PVLIT9 PVLIT10 \\\n",
        "NUMSTATUS PVNUM1 PVNUM2 PVNUM3 PVNUM4 PVNUM5 PVNUM6 PVNUM7 PVNUM8 PVNUM9 PVNUM10 age_r earnhr earnhrppp\" \n",
        "var_lst = var.upper()\n",
        "var_lst =  re.sub(\" \", \",\", var_lst)\n",
        "var_lst = var_lst.split(\",\")\n",
        "\n",
        "for i, val in enumerate(var_lst):\n",
        "  if val == 'B_Q01A':\n",
        "    var_lst[i]= 'B_Q01a'\n",
        "  if val == 'D_Q13A':\n",
        "    var_lst[i]= 'D_Q13a'\n",
        "  if val == 'D_Q13B':\n",
        "    var_lst[i]= 'D_Q13b'\n",
        "  if val == 'D_Q13C':\n",
        "    var_lst[i]= 'D_Q13c'\n",
        "\n",
        "#Alternative way of obtaining from outside my drive:\n",
        "# df_piaac = pd.DataFrame()\n",
        "# for cntr in piaac_countries.keys():\n",
        "#   link = \"https://webfs.oecd.org/piaac/puf-data/CSV/prg{}p1.csv\".format(cntr).strip(\" \")\n",
        "#   piaac = pd.read_csv(link, usecols = var_lst)\n",
        "#   piaac['country_name'] = piaac_countries[cntr]\n",
        "#   df_piaac = df_piaac.append(piaac)\n",
        "\n",
        "\n",
        "df_piaac = pd.DataFrame()\n",
        "for cntr in piaac_countries.keys():\n",
        "  link = \"/content/drive/My Drive/piaac csvs/prg{}p1.csv\".format(cntr).strip(\" \")\n",
        "  piaac = pd.read_csv(link, usecols = var_lst)\n",
        "  piaac['country_name'] = piaac_countries[cntr]\n",
        "  df_piaac = df_piaac.append(piaac)\n",
        "\n",
        "isced_dic = {1:0,2:1,3:2,4:2,5:2,6:2,7:2,8:2,10:3,9:4,11:5,12:5,13:5,14:5,16:5}\n",
        "isced_educ = {0:0,1:1,2:3,3:3,4:3,5:4}\n",
        "educ_lev = {0:'No School',1:'Primary',3:'Secondary',4:'Tertiary'}\n",
        "\n",
        "df_piaac['ISCED'] = df_piaac.B_Q01a.map(isced_dic)\n",
        "df_piaac['educ'] = df_piaac.ISCED.map(isced_educ)\n",
        "df_piaac['lev_educ'] = df_piaac.educ.map(educ_lev)\n",
        "\n",
        "\n",
        "df_piaac['pvlit'] = df_piaac[['PVLIT1','PVLIT2','PVLIT3','PVLIT4','PVLIT5',\n",
        "                  'PVLIT6','PVLIT7','PVLIT8','PVLIT9','PVLIT10']].mean(axis=1)\n",
        "df_piaac['pvnum'] = df_piaac[['PVNUM1','PVNUM2','PVNUM3','PVNUM4','PVNUM5',\n",
        "                              'PVNUM6','PVNUM7','PVNUM8','PVNUM9','PVNUM10']].mean(axis=1)"
      ],
      "execution_count": 3,
      "outputs": [
        {
          "output_type": "stream",
          "text": [
            "/usr/local/lib/python3.6/dist-packages/IPython/core/interactiveshell.py:2718: DtypeWarning: Columns (9,384) have mixed types. Specify dtype option on import or set low_memory=False.\n",
            "  interactivity=interactivity, compiler=compiler, result=result)\n",
            "/usr/local/lib/python3.6/dist-packages/IPython/core/interactiveshell.py:2718: DtypeWarning: Columns (9,385) have mixed types. Specify dtype option on import or set low_memory=False.\n",
            "  interactivity=interactivity, compiler=compiler, result=result)\n",
            "/usr/local/lib/python3.6/dist-packages/pandas/core/frame.py:7138: FutureWarning: Sorting because non-concatenation axis is not aligned. A future version\n",
            "of pandas will change to not sort by default.\n",
            "\n",
            "To accept the future behavior, pass 'sort=False'.\n",
            "\n",
            "To retain the current behavior and silence the warning, pass 'sort=True'.\n",
            "\n",
            "  sort=sort,\n",
            "/usr/local/lib/python3.6/dist-packages/IPython/core/interactiveshell.py:2718: DtypeWarning: Columns (9) have mixed types. Specify dtype option on import or set low_memory=False.\n",
            "  interactivity=interactivity, compiler=compiler, result=result)\n",
            "/usr/local/lib/python3.6/dist-packages/IPython/core/interactiveshell.py:2718: DtypeWarning: Columns (385) have mixed types. Specify dtype option on import or set low_memory=False.\n",
            "  interactivity=interactivity, compiler=compiler, result=result)\n",
            "/usr/local/lib/python3.6/dist-packages/IPython/core/interactiveshell.py:2718: DtypeWarning: Columns (383) have mixed types. Specify dtype option on import or set low_memory=False.\n",
            "  interactivity=interactivity, compiler=compiler, result=result)\n",
            "/usr/local/lib/python3.6/dist-packages/IPython/core/interactiveshell.py:2718: DtypeWarning: Columns (384) have mixed types. Specify dtype option on import or set low_memory=False.\n",
            "  interactivity=interactivity, compiler=compiler, result=result)\n"
          ],
          "name": "stderr"
        }
      ]
    }
  ]
}